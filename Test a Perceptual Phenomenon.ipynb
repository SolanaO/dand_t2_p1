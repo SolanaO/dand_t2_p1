{
 "cells": [
  {
   "cell_type": "markdown",
   "metadata": {},
   "source": [
    "## Analyzing the Stroop Effect"
   ]
  },
  {
   "cell_type": "markdown",
   "metadata": {},
   "source": [
    "### Background Information\n",
    "\n",
    "In a Stroop task, participants are presented with a list of words, with each word displayed in a color of ink. The participant’s task is to say out loud the color of the ink in which the word is printed. The task has two conditions: a congruent words condition, and an incongruent words condition. In the congruent words condition, the words being displayed are color words whose names match the colors in which they are printed: for example RED, BLUE. In the incongruent words condition, the words displayed are color words whose names do not match the colors in which they are printed: for example PURPLE, ORANGE. In each case, we measure the time it takes to name the ink colors in equally-sized lists. Each participant will go through and record a time from each condition."
   ]
  },
  {
   "cell_type": "code",
   "execution_count": 1,
   "metadata": {
    "collapsed": true
   },
   "outputs": [],
   "source": [
    "### import neccessary packages\n",
    "import pandas as pd\n",
    "import numpy as np\n",
    "from scipy import stats \n",
    "\n",
    "import matplotlib.pyplot as plt\n",
    "\n",
    "import seaborn as sns\n",
    "%matplotlib inline"
   ]
  },
  {
   "cell_type": "code",
   "execution_count": 2,
   "metadata": {},
   "outputs": [
    {
     "data": {
      "text/html": [
       "<div>\n",
       "<style scoped>\n",
       "    .dataframe tbody tr th:only-of-type {\n",
       "        vertical-align: middle;\n",
       "    }\n",
       "\n",
       "    .dataframe tbody tr th {\n",
       "        vertical-align: top;\n",
       "    }\n",
       "\n",
       "    .dataframe thead th {\n",
       "        text-align: right;\n",
       "    }\n",
       "</style>\n",
       "<table border=\"1\" class=\"dataframe\">\n",
       "  <thead>\n",
       "    <tr style=\"text-align: right;\">\n",
       "      <th></th>\n",
       "      <th>Congruent</th>\n",
       "      <th>Incongruent</th>\n",
       "    </tr>\n",
       "  </thead>\n",
       "  <tbody>\n",
       "    <tr>\n",
       "      <th>0</th>\n",
       "      <td>12.079</td>\n",
       "      <td>19.278</td>\n",
       "    </tr>\n",
       "    <tr>\n",
       "      <th>1</th>\n",
       "      <td>16.791</td>\n",
       "      <td>18.741</td>\n",
       "    </tr>\n",
       "    <tr>\n",
       "      <th>2</th>\n",
       "      <td>9.564</td>\n",
       "      <td>21.214</td>\n",
       "    </tr>\n",
       "    <tr>\n",
       "      <th>3</th>\n",
       "      <td>8.630</td>\n",
       "      <td>15.687</td>\n",
       "    </tr>\n",
       "    <tr>\n",
       "      <th>4</th>\n",
       "      <td>14.669</td>\n",
       "      <td>22.803</td>\n",
       "    </tr>\n",
       "  </tbody>\n",
       "</table>\n",
       "</div>"
      ],
      "text/plain": [
       "   Congruent  Incongruent\n",
       "0     12.079       19.278\n",
       "1     16.791       18.741\n",
       "2      9.564       21.214\n",
       "3      8.630       15.687\n",
       "4     14.669       22.803"
      ]
     },
     "execution_count": 2,
     "metadata": {},
     "output_type": "execute_result"
    }
   ],
   "source": [
    "### upload and view data\n",
    "df = pd.read_csv('stroopdata.csv')\n",
    "df.head()"
   ]
  },
  {
   "cell_type": "code",
   "execution_count": 3,
   "metadata": {},
   "outputs": [
    {
     "name": "stdout",
     "output_type": "stream",
     "text": [
      "<class 'pandas.core.frame.DataFrame'>\n",
      "RangeIndex: 24 entries, 0 to 23\n",
      "Data columns (total 2 columns):\n",
      "Congruent      24 non-null float64\n",
      "Incongruent    24 non-null float64\n",
      "dtypes: float64(2)\n",
      "memory usage: 464.0 bytes\n"
     ]
    }
   ],
   "source": [
    "### basic information about the dataframe\n",
    "df.info()"
   ]
  },
  {
   "cell_type": "markdown",
   "metadata": {},
   "source": [
    "### (1) What is the independent variable? What is the dependent variable?"
   ]
  },
  {
   "cell_type": "markdown",
   "metadata": {},
   "source": [
    "The *independent variable* is the color of the ink used to print the word, the same as the color word or different from the color word. These are encoded as 'Congruent' or 'Incongruent' in our data. \n",
    "\n",
    "The *dependent variable* is the time needed by the participant to read the words. "
   ]
  },
  {
   "cell_type": "markdown",
   "metadata": {},
   "source": [
    "### (2) What is an appropriate set of hypotheses for this task? What kind of statistical test do you expect to perform? Justify your choices."
   ]
  },
  {
   "cell_type": "markdown",
   "metadata": {},
   "source": [
    "The hypothesis to be tested is denoted $H_0$ (the null hypothesis). The research hypothesis is $H_1$ is to be accepted in case that we reject the null hypothesis. \n",
    "\n",
    "- *Null Hypothesis*: the mean time in incongruent words condition is no longer, even shorter than the recorded mean time in congruent words condition.\n",
    "\n",
    "$$H_0:  \\mu _{inc} - \\mu _{con} \\leq 0$$\n",
    "\n",
    "- *Alternative Hypothesis*: the mean time in incongruent words condition is longer than the mean time in congruent words condition.\n",
    "\n",
    "$$H_1: \\mu _{inc} - \\mu _{con} > 0$$\n",
    "\n",
    "- Test statistic: the function on which the statistical decisions will be made, this is the difference between the time proportions $diff = \\mu_{inc} - \\mu_{cong}$.\n",
    "\n",
    "- Rejection region: specifies the values of the test statistic for which the null hypothesis is to be rejected, in favor of the alternative hypothesis. We will work with a $95/%$ confidence interval, which means that the level of the test is $\\alpha = 0.05$."
   ]
  },
  {
   "cell_type": "markdown",
   "metadata": {},
   "source": [
    "Statistical tests to be performed:\n",
    "\n",
    "> First we perform a T-test on the sample to check if the data is compatible with our expectations.\n",
    "    \n",
    "> Second, we compute the observed difference for the given sample. In order to decide if this difference is statistically significant or just due to chance we perform an A/B test on a simulated sampling distribution."
   ]
  },
  {
   "cell_type": "markdown",
   "metadata": {},
   "source": [
    "### (3) Report some descriptive statistics regarding this dataset. Include at least one measure of central tendency and at least one measure of variability. The name of the data file is 'stroopdata.csv'."
   ]
  },
  {
   "cell_type": "code",
   "execution_count": 4,
   "metadata": {},
   "outputs": [
    {
     "data": {
      "text/html": [
       "<div>\n",
       "<style scoped>\n",
       "    .dataframe tbody tr th:only-of-type {\n",
       "        vertical-align: middle;\n",
       "    }\n",
       "\n",
       "    .dataframe tbody tr th {\n",
       "        vertical-align: top;\n",
       "    }\n",
       "\n",
       "    .dataframe thead th {\n",
       "        text-align: right;\n",
       "    }\n",
       "</style>\n",
       "<table border=\"1\" class=\"dataframe\">\n",
       "  <thead>\n",
       "    <tr style=\"text-align: right;\">\n",
       "      <th></th>\n",
       "      <th>Congruent</th>\n",
       "      <th>Incongruent</th>\n",
       "    </tr>\n",
       "  </thead>\n",
       "  <tbody>\n",
       "    <tr>\n",
       "      <th>count</th>\n",
       "      <td>24.000000</td>\n",
       "      <td>24.000000</td>\n",
       "    </tr>\n",
       "    <tr>\n",
       "      <th>mean</th>\n",
       "      <td>14.051125</td>\n",
       "      <td>22.015917</td>\n",
       "    </tr>\n",
       "    <tr>\n",
       "      <th>std</th>\n",
       "      <td>3.559358</td>\n",
       "      <td>4.797057</td>\n",
       "    </tr>\n",
       "    <tr>\n",
       "      <th>min</th>\n",
       "      <td>8.630000</td>\n",
       "      <td>15.687000</td>\n",
       "    </tr>\n",
       "    <tr>\n",
       "      <th>25%</th>\n",
       "      <td>11.895250</td>\n",
       "      <td>18.716750</td>\n",
       "    </tr>\n",
       "    <tr>\n",
       "      <th>50%</th>\n",
       "      <td>14.356500</td>\n",
       "      <td>21.017500</td>\n",
       "    </tr>\n",
       "    <tr>\n",
       "      <th>75%</th>\n",
       "      <td>16.200750</td>\n",
       "      <td>24.051500</td>\n",
       "    </tr>\n",
       "    <tr>\n",
       "      <th>max</th>\n",
       "      <td>22.328000</td>\n",
       "      <td>35.255000</td>\n",
       "    </tr>\n",
       "  </tbody>\n",
       "</table>\n",
       "</div>"
      ],
      "text/plain": [
       "       Congruent  Incongruent\n",
       "count  24.000000    24.000000\n",
       "mean   14.051125    22.015917\n",
       "std     3.559358     4.797057\n",
       "min     8.630000    15.687000\n",
       "25%    11.895250    18.716750\n",
       "50%    14.356500    21.017500\n",
       "75%    16.200750    24.051500\n",
       "max    22.328000    35.255000"
      ]
     },
     "execution_count": 4,
     "metadata": {},
     "output_type": "execute_result"
    }
   ],
   "source": [
    "### basic descriptive statistics for the dataframe\n",
    "### includes mean, standard deviation and 5 numbers summary\n",
    "\n",
    "df.describe()"
   ]
  },
  {
   "cell_type": "markdown",
   "metadata": {},
   "source": [
    "### (4) Provide one or two visualizations that show the distribution of the sample data. Write one or two sentences noting what you observe about the plot or plots."
   ]
  },
  {
   "cell_type": "code",
   "execution_count": 5,
   "metadata": {},
   "outputs": [
    {
     "data": {
      "text/plain": [
       "(0, 5)"
      ]
     },
     "execution_count": 5,
     "metadata": {},
     "output_type": "execute_result"
    },
    {
     "data": {
      "image/png": "[encoded data removed]",
      "text/plain": [
       "<matplotlib.figure.Figure at 0xb05acf8>"
      ]
     },
     "metadata": {},
     "output_type": "display_data"
    }
   ],
   "source": [
    "### a histogram for the Stroop Effect data\n",
    "\n",
    "df.plot.hist(title=\"Stroop Effect Data\", stacked=\"false\", bins = 48);\n",
    "\n",
    "plt.xlabel(\"Time (sec)\")\n",
    "\n",
    "plt.ylabel(\"Count\")\n",
    "plt.ylim(0,5)"
   ]
  },
  {
   "cell_type": "code",
   "execution_count": 6,
   "metadata": {},
   "outputs": [
    {
     "data": {
      "text/plain": [
       "Text(0.5,0,'Time (sec)')"
      ]
     },
     "execution_count": 6,
     "metadata": {},
     "output_type": "execute_result"
    },
    {
     "data": {
      "image/png": "[encoded data removed]",
      "text/plain": [
       "<matplotlib.figure.Figure at 0xb7a9eb8>"
      ]
     },
     "metadata": {},
     "output_type": "display_data"
    }
   ],
   "source": [
    "### the histogram for the Congruent times only\n",
    "\n",
    "df['Congruent'].plot.hist(title=\"Congruent Times\", bins = 24);\n",
    "plt.ylabel(\"Count\")\n",
    "plt.xlabel(\"Time (sec)\")"
   ]
  },
  {
   "cell_type": "code",
   "execution_count": 7,
   "metadata": {},
   "outputs": [
    {
     "data": {
      "text/plain": [
       "Text(0.5,0,'Time (sec)')"
      ]
     },
     "execution_count": 7,
     "metadata": {},
     "output_type": "execute_result"
    },
    {
     "data": {
      "image/png": "[encoded data removed]",
      "text/plain": [
       "<matplotlib.figure.Figure at 0xb8e1828>"
      ]
     },
     "metadata": {},
     "output_type": "display_data"
    }
   ],
   "source": [
    "### the histogram for the Incongruent times only\n",
    "\n",
    "df['Incongruent'].plot.hist(title=\"Incongruent Times\", bins = 24, color='orange');\n",
    "plt.ylabel(\"Count\")\n",
    "plt.xlabel(\"Time (sec)\")"
   ]
  },
  {
   "cell_type": "code",
   "execution_count": 8,
   "metadata": {},
   "outputs": [
    {
     "data": {
      "image/png": "[encoded data removed]",
      "text/plain": [
       "<matplotlib.figure.Figure at 0xb9b1eb8>"
      ]
     },
     "metadata": {},
     "output_type": "display_data"
    }
   ],
   "source": [
    "### boxplots for the two columns in the dataframe\n",
    "\n",
    "### create the figure in which the chart will be drawn\n",
    "plt.figure(figsize=(16,6), dpi=50, linewidth=2, frameon=True)\n",
    "\n",
    "### the horizontal boxplot\n",
    "df.boxplot(sym='bD', vert=False, widths=.5, patch_artist=True, showfliers=True)\n",
    "\n",
    "### title and ticks  \n",
    "plt.title('\\n Stroop Effect Data \\n', fontsize=24)\n",
    "plt.xticks(fontsize = 16)\n",
    "plt.yticks(fontsize = 16)\n",
    "\n",
    "plt.show()"
   ]
  },
  {
   "cell_type": "markdown",
   "metadata": {},
   "source": [
    "#### Comments:\n",
    "\n",
    "1. The 'Congruent Times' histogram (see also the boxplot) exhibits nonzero positive skewness. The 'Incongruent Times' histogram is close to a normal distribution. \n",
    "\n",
    "2. The boxplots give a graphical representation of the range and intequantile range data we previously computed. We notice in the 'Incongruent' boxplot that there are two outliers."
   ]
  },
  {
   "cell_type": "code",
   "execution_count": 9,
   "metadata": {},
   "outputs": [
    {
     "data": {
      "text/html": [
       "<div>\n",
       "<style scoped>\n",
       "    .dataframe tbody tr th:only-of-type {\n",
       "        vertical-align: middle;\n",
       "    }\n",
       "\n",
       "    .dataframe tbody tr th {\n",
       "        vertical-align: top;\n",
       "    }\n",
       "\n",
       "    .dataframe thead th {\n",
       "        text-align: right;\n",
       "    }\n",
       "</style>\n",
       "<table border=\"1\" class=\"dataframe\">\n",
       "  <thead>\n",
       "    <tr style=\"text-align: right;\">\n",
       "      <th></th>\n",
       "      <th>Congruent</th>\n",
       "      <th>Incongruent</th>\n",
       "    </tr>\n",
       "  </thead>\n",
       "  <tbody>\n",
       "    <tr>\n",
       "      <th>14</th>\n",
       "      <td>18.200</td>\n",
       "      <td>35.255</td>\n",
       "    </tr>\n",
       "    <tr>\n",
       "      <th>19</th>\n",
       "      <td>12.369</td>\n",
       "      <td>34.288</td>\n",
       "    </tr>\n",
       "    <tr>\n",
       "      <th>9</th>\n",
       "      <td>14.480</td>\n",
       "      <td>26.282</td>\n",
       "    </tr>\n",
       "  </tbody>\n",
       "</table>\n",
       "</div>"
      ],
      "text/plain": [
       "    Congruent  Incongruent\n",
       "14     18.200       35.255\n",
       "19     12.369       34.288\n",
       "9      14.480       26.282"
      ]
     },
     "execution_count": 9,
     "metadata": {},
     "output_type": "execute_result"
    }
   ],
   "source": [
    "### identify the two outliers we observed in the 'Incongruent' boxplot\n",
    "\n",
    "df.sort_values(by='Incongruent', ascending=False).head(3)"
   ]
  },
  {
   "cell_type": "code",
   "execution_count": 10,
   "metadata": {},
   "outputs": [
    {
     "data": {
      "image/png": "[encoded data removed]",
      "text/plain": [
       "<matplotlib.figure.Figure at 0xba1b5c0>"
      ]
     },
     "metadata": {},
     "output_type": "display_data"
    }
   ],
   "source": [
    "### remove the two outliers and replot\n",
    "\n",
    "df1=df.drop(df.index[[14,19]])\n",
    "\n",
    "### create the figure in which the chart will be drawn\n",
    "plt.figure(figsize=(16,6), dpi=50, linewidth=2, frameon=True)\n",
    "\n",
    "### the horizontal boxplot\n",
    "df1.boxplot(sym='bD', vert=False, widths=.5, patch_artist=True, showfliers=True)\n",
    "\n",
    "### title and ticks  \n",
    "plt.title('\\n Stroop Effect Adjusted Data \\n', fontsize=24)\n",
    "plt.xticks(fontsize = 16)\n",
    "plt.yticks(fontsize = 16)\n",
    "\n",
    "plt.show()\n"
   ]
  },
  {
   "cell_type": "markdown",
   "metadata": {},
   "source": [
    "*Comment*:\n",
    "\n",
    "> There is an outlier in the 'Congruent' data, which we will leave as it is."
   ]
  },
  {
   "cell_type": "markdown",
   "metadata": {},
   "source": [
    "### (5) Now, perform the statistical test and report the results. What is the confidence level and your critical statistic value? Do you reject the null hypothesis or fail to reject it? Come to a conclusion in terms of the experiment task. Did the results match up with your expectations?"
   ]
  },
  {
   "cell_type": "markdown",
   "metadata": {},
   "source": [
    "#### Method I: use a built-in Python to perform a t-test on the sample "
   ]
  },
  {
   "cell_type": "markdown",
   "metadata": {},
   "source": [
    "We perform a one tailed T-test for the means of two the independent samples of recorded reading times. We assume that the variances are different."
   ]
  },
  {
   "cell_type": "code",
   "execution_count": 11,
   "metadata": {},
   "outputs": [
    {
     "name": "stdout",
     "output_type": "stream",
     "text": [
      " t-score = 7.049169019899317.\n",
      " p-value = 7.921206284058749e-09.\n"
     ]
    }
   ],
   "source": [
    "### perform the t-test\n",
    "t_score, p_value = stats.ttest_ind(df1['Incongruent'], df1['Congruent'], axis=0, equal_var=False)\n",
    "\n",
    "### print the results\n",
    "print(' t-score = {}.'. format(t_score))\n",
    "\n",
    "### adjust the p-value to take into account that our t-test is a one tailed test\n",
    "### while SciPy performs a two-tailed test\n",
    "print(' p-value = {}.'. format(p_value / 2))"
   ]
  },
  {
   "cell_type": "markdown",
   "metadata": {},
   "source": [
    "**Conclusions I**:\n",
    "\n",
    "> The confidence level to perform the hypothesis testing is chosen to $95 \\%$ and the corresponding critical statistic value is $\\alpha = 0.05$. The computed $p$-value is much smaller than the critical value, so we reject the null hypothesis in the favor of the alternative hypothesis. Based on these results the average time to read the words in 'Incongruent' conditions is longer than the average time needed to read in 'Congruent' conditions. "
   ]
  },
  {
   "cell_type": "markdown",
   "metadata": {},
   "source": [
    "#### Method II: perform an A/B test on a simulated sampling distribution"
   ]
  },
  {
   "cell_type": "code",
   "execution_count": 12,
   "metadata": {},
   "outputs": [
    {
     "data": {
      "text/html": [
       "<div>\n",
       "<style scoped>\n",
       "    .dataframe tbody tr th:only-of-type {\n",
       "        vertical-align: middle;\n",
       "    }\n",
       "\n",
       "    .dataframe tbody tr th {\n",
       "        vertical-align: top;\n",
       "    }\n",
       "\n",
       "    .dataframe thead th {\n",
       "        text-align: right;\n",
       "    }\n",
       "</style>\n",
       "<table border=\"1\" class=\"dataframe\">\n",
       "  <thead>\n",
       "    <tr style=\"text-align: right;\">\n",
       "      <th></th>\n",
       "      <th>Congruent</th>\n",
       "      <th>Incongruent</th>\n",
       "      <th>Difference</th>\n",
       "    </tr>\n",
       "  </thead>\n",
       "  <tbody>\n",
       "    <tr>\n",
       "      <th>0</th>\n",
       "      <td>12.079</td>\n",
       "      <td>19.278</td>\n",
       "      <td>7.199</td>\n",
       "    </tr>\n",
       "    <tr>\n",
       "      <th>1</th>\n",
       "      <td>16.791</td>\n",
       "      <td>18.741</td>\n",
       "      <td>1.950</td>\n",
       "    </tr>\n",
       "  </tbody>\n",
       "</table>\n",
       "</div>"
      ],
      "text/plain": [
       "   Congruent  Incongruent  Difference\n",
       "0     12.079       19.278       7.199\n",
       "1     16.791       18.741       1.950"
      ]
     },
     "execution_count": 12,
     "metadata": {},
     "output_type": "execute_result"
    }
   ],
   "source": [
    "### create a new column that contains the difference\n",
    "### between the 'Incongruent' and 'Congruent' times\n",
    "\n",
    "df1['Difference'] = df1['Incongruent'] - df1['Congruent']\n",
    "\n",
    "### check for success\n",
    "df1.head(2)"
   ]
  },
  {
   "cell_type": "code",
   "execution_count": 13,
   "metadata": {},
   "outputs": [
    {
     "name": "stdout",
     "output_type": "stream",
     "text": [
      "The observed difference in the conversion rates is 6.9173.\n"
     ]
    }
   ],
   "source": [
    "### compute the observed difference of average times \n",
    "\n",
    "obs_diff = df1['Difference'].mean()\n",
    "\n",
    "print('The observed difference in the conversion rates is {}.'.format(round(obs_diff,4)))"
   ]
  },
  {
   "cell_type": "markdown",
   "metadata": {},
   "source": [
    "**Comments**: \n",
    "\n",
    "> For this experiment, the observed difference supports our alternative hypothesis. Now that we know the difference for this sample, let's see if the difference is significant and not due to chance. We bootstrap the sample to simulate the sampling distribution for the differences."
   ]
  },
  {
   "cell_type": "code",
   "execution_count": 14,
   "metadata": {
    "collapsed": true
   },
   "outputs": [],
   "source": [
    "### create a sample of the size of our data\n",
    "\n",
    "sample_data = df1.sample(22)"
   ]
  },
  {
   "cell_type": "code",
   "execution_count": 15,
   "metadata": {
    "collapsed": true
   },
   "outputs": [],
   "source": [
    "### simulate 10,000 results using bootstrapping and store them in diffs\n",
    "\n",
    "diffs = []\n",
    "\n",
    "for _ in range(10000):\n",
    "    ### create the bootsample of the size of our data\n",
    "    bootsample = sample_data.sample(df1.shape[0], replace = True)\n",
    "    ### compute the mean values for the bootsample\n",
    "    cong_mean = bootsample['Congruent'].mean()\n",
    "    incong_mean = bootsample['Incongruent'].mean()\n",
    "    ### append the data \n",
    "    diffs.append(incong_mean - cong_mean)   "
   ]
  },
  {
   "cell_type": "code",
   "execution_count": 16,
   "metadata": {},
   "outputs": [
    {
     "data": {
      "text/plain": [
       "Text(0.5,1,'\\n Simulated differences\\n')"
      ]
     },
     "execution_count": 16,
     "metadata": {},
     "output_type": "execute_result"
    },
    {
     "data": {
      "image/png": "[encoded data removed]",
      "text/plain": [
       "<matplotlib.figure.Figure at 0xb8f2a90>"
      ]
     },
     "metadata": {},
     "output_type": "display_data"
    }
   ],
   "source": [
    "#### the histogram of the simulated differences\n",
    "\n",
    "plt.hist(diffs);\n",
    "\n",
    "### the title\n",
    "plt.title('\\n Simulated differences\\n', fontsize=16)"
   ]
  },
  {
   "cell_type": "markdown",
   "metadata": {},
   "source": [
    "*Comment*:\n",
    "\n",
    "> According to the Central Limit Theorem the sampling distribution is normal. We can use it to simulate draws from the sampling distribution under the null hypothesis.  If there is truly no difference, then the difference between the means should be zero."
   ]
  },
  {
   "cell_type": "code",
   "execution_count": 17,
   "metadata": {
    "collapsed": true
   },
   "outputs": [],
   "source": [
    "### to simulate for the null, create a normal distribution centered at 0\n",
    "### with the same standard deviation as our sampling distribution\n",
    "\n",
    "diffs = np.array(diffs)\n",
    "null_vals = np.random.normal(0, diffs.std(), diffs.size)"
   ]
  },
  {
   "cell_type": "code",
   "execution_count": 18,
   "metadata": {},
   "outputs": [
    {
     "data": {
      "image/png": "[encoded data removed]",
      "text/plain": [
       "<matplotlib.figure.Figure at 0xba69e48>"
      ]
     },
     "metadata": {},
     "output_type": "display_data"
    }
   ],
   "source": [
    "### the histogram of the sampling distribution simulated under the null hypothesis\n",
    "plt.hist(null_vals);\n",
    "\n",
    "### the title\n",
    "plt.title('\\n The simulated null distribution\\n', fontsize=16)\n",
    "\n",
    "### where our observed statistic falls\n",
    "plt.axvline(x=obs_diff, color='red');"
   ]
  },
  {
   "cell_type": "markdown",
   "metadata": {},
   "source": [
    "We compute the $p$-value for our statistic by finding the proportion of values in the null distribution that are greater than our observed difference. "
   ]
  },
  {
   "cell_type": "code",
   "execution_count": 19,
   "metadata": {},
   "outputs": [
    {
     "data": {
      "text/plain": [
       "0.0"
      ]
     },
     "execution_count": 19,
     "metadata": {},
     "output_type": "execute_result"
    }
   ],
   "source": [
    "### the p-value\n",
    "\n",
    "(null_vals > obs_diff).mean()"
   ]
  },
  {
   "cell_type": "markdown",
   "metadata": {},
   "source": [
    "**Conclusions II**:\n",
    "\n",
    "> If we compare with a critical value $\\alpha = 0.05$, we can conclude with $95 \\%$ confidence level that the time difference for the 'Congruent' and 'Incongruent' groups does appear to be significant. We can reject the null hypothesis. Therefore the time needed in 'Incongruent' conditions is longer than the reading time in 'Congruent' conditions."
   ]
  },
  {
   "cell_type": "markdown",
   "metadata": {},
   "source": [
    "**Final comment**:\n",
    "\n",
    "> The similar results obtained with the two tests match my expectations and are in accordance with the Stroop Effect theory."
   ]
  },
  {
   "cell_type": "markdown",
   "metadata": {},
   "source": [
    "### (6) Optional: What do you think is responsible for the effects observed? Can you think of an alternative or similar task that would result in a similar effect? Some research about the problem will be helpful for thinking about these two questions!"
   ]
  },
  {
   "cell_type": "markdown",
   "metadata": {},
   "source": [
    "The Stroop effect is observed when an individual has to replace a habitual response with a controlled response. Stroop tests are widely used in psychology to measure the interference in the reaction time of a task and in order to evaluate various cognitive skills [8]."
   ]
  },
  {
   "cell_type": "markdown",
   "metadata": {},
   "source": [
    "There are several variations of the Stroop effect that can be found in the literature. A few examples are given below:\n",
    "\n",
    "- The Emotional Stroop Task [4], uses target and control lists of words printed in various colors of ink, where the words on the target list have an emotional component (for example they are anxiety-related if the study is about anxiety).\n",
    "\n",
    "- The Stroop Task [4] in which the participants are instructed to name the color of items presented on screen by pressing a corresponding key on the keyboard.\n",
    "\n",
    "- Another variation of the Stroop Task is to ask participants to name a number based on the number word versus the number of times a word is printed.\n",
    "\n"
   ]
  },
  {
   "cell_type": "markdown",
   "metadata": {
    "collapsed": true
   },
   "source": [
    "### References:\n",
    "\n",
    "1. D.D. Wackerly, W. Mendenhall III, R.L. Scheaffer, Mathematical Statistics with Applications, Thomson Learning Inc., 2008.\n",
    "\n",
    "2. https://quizlet.com/72519003/stroop-effect-flash-cards/\n",
    "\n",
    "3. https://en.wikipedia.org/wiki/Stroop_effect\n",
    "\n",
    "4. https://www.sciencedirect.com/topics/neuroscience/stroop-effect\n",
    "\n",
    "5. https://docs.scipy.org/doc/scipy/reference/generated/scipy.stats.ttest_ind.html\n",
    "\n",
    "6. https://github.com/SolanaO/dand_t1_p4\n",
    "\n",
    "7. https://classroom.udacity.com/nanodegrees/nd002/parts/682048c9-4e1a-4020-8a47-7eaf3e34f0fe\n",
    "\n",
    "8. http://imbs.uci.edu/~kjameson/ECST/MacLeod_TheStroopEffect.pdf"
   ]
  },
  {
   "cell_type": "code",
   "execution_count": null,
   "metadata": {
    "collapsed": true
   },
   "outputs": [],
   "source": []
  }
 ],
 "metadata": {
  "kernelspec": {
   "display_name": "Python 3",
   "language": "python",
   "name": "python3"
  },
  "language_info": {
   "codemirror_mode": {
    "name": "ipython",
    "version": 3
   },
   "file_extension": ".py",
   "mimetype": "text/x-python",
   "name": "python",
   "nbconvert_exporter": "python",
   "pygments_lexer": "ipython3",
   "version": "3.6.3"
  }
 },
 "nbformat": 4,
 "nbformat_minor": 2
}
